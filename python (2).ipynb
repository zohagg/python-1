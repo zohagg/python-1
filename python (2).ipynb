{
  "nbformat": 4,
  "nbformat_minor": 0,
  "metadata": {
    "colab": {
      "provenance": []
    },
    "kernelspec": {
      "name": "python3",
      "display_name": "Python 3"
    },
    "language_info": {
      "name": "python"
    }
  },
  "cells": [
    {
      "cell_type": "markdown",
      "source": [],
      "metadata": {
        "id": "GjLlFXMmel79"
      }
    },
    {
      "cell_type": "markdown",
      "source": [
        "# Assignment 1"
      ],
      "metadata": {
        "id": "NhP8bVP1ew0E"
      }
    },
    {
      "cell_type": "markdown",
      "source": [
        "Write a function to check if a given string is a **palindrome**"
      ],
      "metadata": {
        "id": "-AYMXhYsfNsy"
      }
    },
    {
      "cell_type": "code",
      "execution_count": null,
      "metadata": {
        "id": "ehGVjHocUUjD"
      },
      "outputs": [],
      "source": [
        "def is_palindrome(text):\n",
        "  cleaned_text = text.replace(\" \", \"\").lower()\n",
        "  reversed_text=\"\"\n",
        "  for char in cleaned_text:\n",
        "    reversed_text = char + reversed_text\n",
        "  return reversed_text == cleaned_text"
      ]
    },
    {
      "cell_type": "markdown",
      "source": [
        "Check if two strings are **anagrams** of each other(a word, phrase, or name formed by rearranging the letters of another, such as spar, formed from rasp.)"
      ],
      "metadata": {
        "id": "GCl5QjK0ilnB"
      }
    },
    {
      "cell_type": "code",
      "source": [
        "def is_anagram(text1, text2):\n",
        "  cleaned_text1 = text1.replace(\" \", \"\").lower()\n",
        "  cleaned_text2 = text2.replace(\" \", \"\").lower()\n",
        "  return sorted(cleaned_text1) == sorted(cleaned_text2)"
      ],
      "metadata": {
        "id": "C73q1crVU1EF"
      },
      "execution_count": null,
      "outputs": []
    },
    {
      "cell_type": "markdown",
      "source": [
        "<p> Count the frequency of each character in a string and print it in a dictionary format.</p>"
      ],
      "metadata": {
        "id": "DNinywP6fyim"
      }
    },
    {
      "cell_type": "code",
      "source": [
        "def char_frequency(text):\n",
        "   freq={ }\n",
        "   for char in text:\n",
        "     if char in freq:\n",
        "       freq[char] += 1\n",
        "   else:\n",
        "      freq[char] = 1\n",
        "   return freq\n",
        "\n"
      ],
      "metadata": {
        "id": "8tHrNZn2cmPd"
      },
      "execution_count": null,
      "outputs": []
    },
    {
      "cell_type": "markdown",
      "source": [
        "<p> Sort a list of strings by their length and alphabetically if lengths are equal. </p>"
      ],
      "metadata": {
        "id": "elapBKYffxb3"
      }
    },
    {
      "cell_type": "code",
      "source": [
        "def sort_by_length_and_alphabetical(strings):\n",
        "  return sorted(strings, key=lambda x: (len(x), x))"
      ],
      "metadata": {
        "id": "Mo6hpuiqfaOI"
      },
      "execution_count": null,
      "outputs": []
    },
    {
      "cell_type": "markdown",
      "source": [
        "<p>Given a list with numbers, return a list that contains only numbers that appear once</p>"
      ],
      "metadata": {
        "id": "xI_Cl3WLgC5b"
      }
    },
    {
      "cell_type": "code",
      "source": [
        "def unique_numbers(numbers):\n",
        "  result = []\n",
        "  for number in numbers:\n",
        "    if number not in result:\n",
        "      result.append(number)\n",
        "  return result\n"
      ],
      "metadata": {
        "id": "iOjCVjTMEcwp"
      },
      "execution_count": null,
      "outputs": []
    },
    {
      "cell_type": "markdown",
      "source": [
        "<p>Write a function to flatten a nested list of integers:\n",
        "([[1, 2], [3, 4], 5] → [1, 2, 3, 4, 5]) </p>"
      ],
      "metadata": {
        "id": "A1Jo5yzBgGKU"
      }
    },
    {
      "cell_type": "code",
      "source": [
        "def flatted_list(nested):\n",
        "  result = []\n",
        "  for item in nested:\n",
        "    if isinstance(item,list):\n",
        "      for i in flatted_list(item):\n",
        "           result.append(i)\n",
        "    else:\n",
        "           result.append(item)\n",
        "  return result"
      ],
      "metadata": {
        "id": "Vm_Ro9ATKj5u"
      },
      "execution_count": null,
      "outputs": []
    },
    {
      "cell_type": "markdown",
      "source": [
        "<p> Implement a basic Caesar cipher that shifts characters in a string by N positions.\n",
        "(eg, for N=3\n",
        "print(caesar_cipher(\"abc\"))          \n",
        "print(caesar_cipher(\"XYZ\"))          \n",
        "# Output: def\n",
        "# Output: ABC\n",
        "print(caesar_cipher(\"hello world\"))\n",
        "print(caesar_cipher(\"Python 3.9!\"))  \n",
        ")</p>"
      ],
      "metadata": {
        "id": "bGBHRik4gMp2"
      }
    },
    {
      "cell_type": "code",
      "source": [
        "def caesar_cipher(text):\n",
        "  result = []\n",
        "  for char in  text:\n",
        "    if char >= 'a' and char <= 'z':\n",
        "      shifted = (chr((ord(char) + 3 - ord('a')) % 26 + ord('a')))\n",
        "      result += shifted\n",
        "    elif char >= 'A' and char <= 'Z':\n",
        "      shifted = (chr((ord(char) + 3 - ord('A')) % 26 + ord('A')))\n",
        "      result += shifted\n",
        "    else:\n",
        "      result += char\n",
        "  return result"
      ],
      "metadata": {
        "id": "-N1fwRBoRcN-"
      },
      "execution_count": null,
      "outputs": []
    },
    {
      "cell_type": "markdown",
      "source": [
        "<p> Given a 2D matrix, return its transpose without using external libraries</p>"
      ],
      "metadata": {
        "id": "xDzrZg3rgYIb"
      }
    },
    {
      "cell_type": "code",
      "source": [
        "def transpose(matrix):\n",
        "    rows = len(matrix)\n",
        "    cols = len(matrix[0])\n",
        "    result = []\n",
        "\n",
        "    for c in range(cols):\n",
        "        new_row = []\n",
        "        for r in range(rows):\n",
        "            new_row.append(matrix[r][c])\n",
        "        result.append(new_row)\n",
        "\n",
        "    return result\n",
        "\n"
      ],
      "metadata": {
        "id": "Hxo9SpVpjwmi"
      },
      "execution_count": null,
      "outputs": []
    },
    {
      "cell_type": "markdown",
      "source": [
        " <p>Create a Contact class with name, phone, and email. Create a ContactBook class to store multiple contacts and search by name.</p>"
      ],
      "metadata": {
        "id": "zZTqlsH0ghV-"
      }
    },
    {
      "cell_type": "code",
      "source": [
        "class Contact:\n",
        "  def __init__(self, name, phone_number, email, address):\n",
        "    self.name = name\n",
        "    self.phone_number = phone_number\n",
        "    self.email = email\n",
        "    self.address = address\n",
        "\n",
        "    def disply (self):\n",
        "      print(f\"Name: {self.name}\")\n",
        "      print(f\"Phone number: {self.phone_number}\")\n",
        "      print(f\"Email: {self.email}\")\n",
        "      print(f\"Address: {self.address}\")\n",
        "\n",
        "\n",
        "      class ContactBook:\n",
        "        def __init__(self):\n",
        "          self.contacts = []\n",
        "\n",
        "          def add_contact(self, contact):\n",
        "            self.contacts.append(contact)\n",
        "\n",
        "          def search_by_name(self, name):\n",
        "            find = False\n",
        "            for contact in self.contacts:\n",
        "              if contact.name.lower()==name.lower():\n",
        "               contact.disply()\n",
        "               self.contacts.remove(contact)\n",
        "               break\n",
        "            if not find:\n",
        "              print(\"Contact not found\")"
      ],
      "metadata": {
        "id": "hWGsMa4pFdre"
      },
      "execution_count": null,
      "outputs": []
    },
    {
      "cell_type": "markdown",
      "source": [
        " <p> Class Item (name, price), class Cart with methods to add_item, remove_item, total_cost, and list_items.</p>"
      ],
      "metadata": {
        "id": "uvPZPYF6gnOw"
      }
    },
    {
      "cell_type": "code",
      "source": [
        "class item:\n",
        "  def __init__(self, name, price):\n",
        "    self.name = name\n",
        "    self.price = price\n",
        "\n",
        "    class Cart:\n",
        "      def __init__(self):\n",
        "        self.items = []\n",
        "\n",
        "      def add_item(self, item):\n",
        "        self.items.append(item)\n",
        "        print(f\"Added {item.name} to cart.\")\n",
        "\n",
        "  def remove_item(self, item_name):\n",
        "        for item in self.items:\n",
        "            if item.name.lower() == item_name.lower():\n",
        "                self.items.remove(item)\n",
        "                print(f\"Removed {item.name} from cart.\")\n",
        "                return\n",
        "        print(\"Item not found in cart.\")\n",
        "\n",
        "\n",
        "        def calculate_total(self):\n",
        "         total = 0\n",
        "        for item in self.items:\n",
        "            total += item.price\n",
        "        return total\n",
        "\n",
        "\n",
        "        def list_item(self):\n",
        "          if not self.items:\n",
        "            print(\"Cart is empty.\")\n",
        "            return\n",
        "          else:\n",
        "            print(\"Cart Items:\")\n",
        "            for item in self.items:\n",
        "                print(f\"{item.name} - ${item.price}\")\n",
        "                print(f\"Total: ${self.calculate_total()}\")\n",
        "\n"
      ],
      "metadata": {
        "id": "HV9L6gqvLavG"
      },
      "execution_count": null,
      "outputs": []
    },
    {
      "cell_type": "markdown",
      "source": [
        "<p> Question class with text and answer, Quiz class with list of questions and method to run the quiz (text-based). </p>"
      ],
      "metadata": {
        "id": "qZScd5cbgta4"
      }
    },
    {
      "cell_type": "code",
      "source": [
        "class Questions():\n",
        "  def __init__(self, question, options, correct_answer):\n",
        "    self.question = question\n",
        "    self.options = options\n",
        "\n",
        "\n",
        "    class quiz ():\n",
        "      def __init__(self):\n",
        "        self.questions = []\n",
        "        self.score = 0\n",
        "\n",
        "    def add_question(self, question):\n",
        "        self.questions.append(question)\n",
        "    def run(self):\n",
        "      for idx, question in enumerate(self.questions, start=1):\n",
        "            print(f\"Q{idx}: {question.text}\")\n",
        "            user_answer = input(\"Your answer: \")\n",
        "\n",
        "            if user_answer.strip().lower() == question.answer.lower():\n",
        "                print(\"Correct!\\n\")\n",
        "                self.score += 1\n",
        "            else:\n",
        "                print(f\"Wrong. The correct answer is: {question.answer}\\n\")\n",
        "\n",
        "      print(f\"Quiz complete! Your score: {self.score}/{len(self.questions)}\")\n",
        "\n"
      ],
      "metadata": {
        "id": "og9DvGwdSr1v"
      },
      "execution_count": null,
      "outputs": []
    },
    {
      "cell_type": "markdown",
      "source": [
        " <p> Given a .txt file path, create a class to read the file and return:\n",
        "● number of lines\n",
        "● number of words\n",
        "● most frequent word</p>"
      ],
      "metadata": {
        "id": "L1pJjpTQg0BY"
      }
    },
    {
      "cell_type": "code",
      "source": [
        "class TextAnalyzer():\n",
        "      def __init__(self, file_path):\n",
        "        self.file_path = file_path\n",
        "        self.text = \"\"\n",
        "        self._read_file()\n",
        "\n",
        "      def read_text(self):\n",
        "        return self.text\n",
        "\n",
        "      def _read_file(self):\n",
        "        with open(self.file_path, 'r', encoding='utf-8') as file:\n",
        "          self.text = file.read()\n",
        "\n",
        "      def count_lines(self):\n",
        "        return self.text.count('\\n') + 1 if self.text else 0\n",
        "\n",
        "      def count_words(self):\n",
        "        words = self.text.split()\n",
        "        return len(words)\n",
        "\n",
        "      def most_frequent_word(self):\n",
        "        words = self.text.lower().split()\n",
        "        word_count = {}\n",
        "\n",
        "        for word in words:\n",
        "            word = word.strip('.,!?()[]{}\"\\'')\n",
        "            if word:\n",
        "                word_count[word] = word_count.get(word, 0) + 1\n",
        "\n",
        "        if not word_count:\n",
        "            return None\n",
        "\n",
        "        return max(word_count, key=word_count.get)\n"
      ],
      "metadata": {
        "id": "ykbOwwtTXWVb"
      },
      "execution_count": null,
      "outputs": []
    },
    {
      "cell_type": "markdown",
      "source": [
        "Class Task with title, status (done/pending). The class TodoList can add/remove tasks and list all pending tasks."
      ],
      "metadata": {
        "id": "LrxkuLabhAiR"
      }
    },
    {
      "cell_type": "code",
      "source": [
        "class Task:\n",
        "    def __init__(self, title, status='pending'):\n",
        "        self.title = title\n",
        "        self.status = status\n",
        "\n",
        "    def mark_done(self):\n",
        "        self.status = 'done'\n",
        "\n",
        "    def __str__(self):\n",
        "        return f\"{self.title} - {self.status}\"\n",
        "\n",
        "\n",
        "class TodoList:\n",
        "    def __init__(self):\n",
        "        self.tasks = []\n",
        "\n",
        "    def add_task(self, title):\n",
        "        new_task = Task(title)\n",
        "        self.tasks.append(new_task)\n",
        "\n",
        "    def remove_task(self, title):\n",
        "        self.tasks = [task for task in self.tasks if task.title != title]\n",
        "\n",
        "    def list_pending_tasks(self):\n",
        "        return [task for task in self.tasks if task.status == 'pending']\n"
      ],
      "metadata": {
        "id": "bwImdH4rZY6U"
      },
      "execution_count": null,
      "outputs": []
    },
    {
      "cell_type": "markdown",
      "source": [
        " Base class Shape with method area(), subclasses: Triangle, Circle, Rectangle. Demonstrate polymorphism via a list of shapes."
      ],
      "metadata": {
        "id": "iCib8I2DhZFJ"
      }
    },
    {
      "cell_type": "code",
      "source": [
        "import math\n",
        "\n",
        "class Shape:\n",
        "    def area(self):\n",
        "        return 0\n",
        "\n",
        "#Triangle\n",
        "class Triangle(Shape):\n",
        "    def __init__(self, base, height):\n",
        "        self.base = base\n",
        "        self.height = height\n",
        "\n",
        "    def area(self):\n",
        "        return 0.5 * self.base * self.height\n",
        "\n",
        "#Rectangle\n",
        "class Rectangle(Shape):\n",
        "    def __init__(self, width, height):\n",
        "        self.width = width\n",
        "        self.height = height\n",
        "\n",
        "    def area(self):\n",
        "        return self.width * self.height\n",
        "\n",
        "# Circle\n",
        "class Circle(Shape):\n",
        "    def __init__(self, radius):\n",
        "        self.radius = radius\n",
        "\n",
        "    def area(self):\n",
        "        return math.pi * self.radius ** 2\n"
      ],
      "metadata": {
        "id": "CKSTXQeDZm73"
      },
      "execution_count": null,
      "outputs": []
    },
    {
      "cell_type": "code",
      "source": [
        "def reverse_words(sentence):\n",
        "    words = sentence.split()\n",
        "    reversed_words = words[::-1]\n",
        "    return ' '.join(reversed_words)\n"
      ],
      "metadata": {
        "id": "BPoqupFwaWcN"
      },
      "execution_count": null,
      "outputs": []
    },
    {
      "cell_type": "markdown",
      "source": [
        " Write a function that reverses the words in a sentence, but not the characters."
      ],
      "metadata": {
        "id": "jOmejnvbhdrm"
      }
    },
    {
      "cell_type": "code",
      "source": [
        "def is_prime(n):\n",
        "    if n <= 1:\n",
        "        return False\n",
        "\n",
        "    for i in range(2, n):\n",
        "        if n % i == 0:\n",
        "            return False\n",
        "\n",
        "    return True\n"
      ],
      "metadata": {
        "id": "24VTlv2LbOCC"
      },
      "execution_count": null,
      "outputs": []
    },
    {
      "cell_type": "markdown",
      "source": [
        "Write a function that returns True if a number is prime, else False."
      ],
      "metadata": {
        "id": "p9cnGymyhhG7"
      }
    },
    {
      "cell_type": "code",
      "source": [
        "def fibonacci(n):\n",
        "    sequence = []\n",
        "    a = 0\n",
        "    b = 1\n",
        "\n",
        "    for _ in range(n):\n",
        "        sequence.append(a)\n",
        "        a, b = b, a + b\n",
        "\n",
        "    return sequence\n"
      ],
      "metadata": {
        "id": "aXah1hupcMo5"
      },
      "execution_count": null,
      "outputs": []
    },
    {
      "cell_type": "markdown",
      "source": [
        "Write a function that generates the first n numbers in the Fibonacci sequence."
      ],
      "metadata": {
        "id": "StkvoSf-hj0D"
      }
    },
    {
      "cell_type": "code",
      "source": [
        "def second_largest(numbers):\n",
        "    largest = second = float('-inf')\n",
        "\n",
        "    for num in numbers:\n",
        "        if num > largest:\n",
        "            second = largest\n",
        "            largest = num\n",
        "        elif num > second and num != largest:\n",
        "            second = num\n",
        "\n",
        "    return second\n"
      ],
      "metadata": {
        "id": "0teC1_Cndhoo"
      },
      "execution_count": null,
      "outputs": []
    },
    {
      "cell_type": "markdown",
      "source": [
        "Write a function that returns the second largest number from a list of integers."
      ],
      "metadata": {
        "id": "h62BgltxhnBL"
      }
    },
    {
      "cell_type": "code",
      "source": [
        "def make_dict(keys, values):\n",
        "    result = {}\n",
        "    for i in range(len(keys)):\n",
        "        result[keys[i]] = values[i]\n",
        "    return result\n"
      ],
      "metadata": {
        "id": "nGD6lPQ8eCJa"
      },
      "execution_count": null,
      "outputs": []
    },
    {
      "cell_type": "markdown",
      "source": [
        " Given two lists, one with keys and one with values, convert them into a dictionary.\n",
        "(eg\n",
        "keys = [\"a\", \"b\", \"c\"]\n",
        "values = [1, 2, 3]\n",
        "# Output: {'a': 1, 'b': 2, 'c': 3})"
      ],
      "metadata": {
        "id": "hbDg_P-HiMFn"
      }
    },
    {
      "cell_type": "code",
      "source": [
        "keys = [\"a\", \"b\", \"c\"]\n",
        "values = [1, 2, 3]\n",
        "\n",
        "result = {}\n",
        "for i in range(len(keys)):\n",
        "    result[keys[i]] = values[i]\n",
        "\n",
        "print(result)"
      ],
      "metadata": {
        "id": "lFgomXH5iLEu"
      },
      "execution_count": null,
      "outputs": []
    },
    {
      "cell_type": "markdown",
      "source": [
        "Given a string, return a count of vowels and consonants in it."
      ],
      "metadata": {
        "id": "y8AsgT1UiOPC"
      }
    },
    {
      "cell_type": "code",
      "source": [
        "def count_vowels_consonants(text):\n",
        "    vowels = \"aeiouAEIOU\"\n",
        "    vowel_count = 0\n",
        "    consonant_count = 0\n",
        "\n",
        "    for char in text:\n",
        "        if char.isalpha():\n",
        "            if char in vowels:\n",
        "                vowel_count += 1\n",
        "            else:\n",
        "                consonant_count += 1\n",
        "\n",
        "    return vowel_count, consonant_count\n"
      ],
      "metadata": {
        "id": "AvO12JMJeeNq"
      },
      "execution_count": null,
      "outputs": []
    }
  ]
}