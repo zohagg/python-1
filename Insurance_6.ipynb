{
  "nbformat": 4,
  "nbformat_minor": 0,
  "metadata": {
    "colab": {
      "provenance": []
    },
    "kernelspec": {
      "name": "python3",
      "display_name": "Python 3"
    },
    "language_info": {
      "name": "python"
    }
  },
  "cells": [
    {
      "cell_type": "code",
      "execution_count": 25,
      "metadata": {
        "colab": {
          "base_uri": "https://localhost:8080/"
        },
        "id": "MjqoljS8LZ56",
        "outputId": "238d4de6-27dd-47eb-f2f0-b15b540dcc72"
      },
      "outputs": [
        {
          "output_type": "stream",
          "name": "stdout",
          "text": [
            "Drive already mounted at /content/gdrive; to attempt to forcibly remount, call drive.mount(\"/content/gdrive\", force_remount=True).\n",
            "Project folder ready at: /content/gdrive/MyDrive/AI_Project_Files\n"
          ]
        }
      ],
      "source": [
        "from google.colab import drive\n",
        "import os\n",
        "\n",
        "\n",
        "drive.mount('/content/gdrive')\n",
        "\n",
        "\n",
        "ai_project_files_path = '/content/gdrive/MyDrive/AI_Project_Files'\n",
        "\n",
        "\n",
        "if not os.path.exists(ai_project_files_path):\n",
        "    os.makedirs(ai_project_files_path)\n",
        "\n",
        "print(\"Project folder ready at:\", ai_project_files_path)\n"
      ]
    },
    {
      "cell_type": "code",
      "source": [
        "import pandas as pd\n",
        "\n",
        "dataset_path = os.path.join(ai_project_files_path, \"insurance.csv\")\n",
        "\n",
        "dataset = pd.read_csv('/content/insurance.csv')\n",
        "print(dataset.head())\n"
      ],
      "metadata": {
        "colab": {
          "base_uri": "https://localhost:8080/"
        },
        "id": "oOuVRtbrLj5z",
        "outputId": "e54e9fbb-6a83-49ef-f6a8-a73624a40ef0"
      },
      "execution_count": 26,
      "outputs": [
        {
          "output_type": "stream",
          "name": "stdout",
          "text": [
            "   age     sex     bmi  children smoker     region      charges\n",
            "0   19  female  27.900         0    yes  southwest  16884.92400\n",
            "1   18    male  33.770         1     no  southeast   1725.55230\n",
            "2   28    male  33.000         3     no  southeast   4449.46200\n",
            "3   33    male  22.705         0     no  northwest  21984.47061\n",
            "4   32    male  28.880         0     no  northwest   3866.85520\n"
          ]
        }
      ]
    },
    {
      "cell_type": "code",
      "source": [
        "\n",
        "print(dataset.isnull().sum())\n",
        "\n",
        "\n",
        "dataset = dataset.fillna({\n",
        "    'bmi': dataset['bmi'].median(),\n",
        "    'sex': dataset['sex'].mode()[0]\n",
        "})\n",
        "\n",
        "\n",
        "dataset = dataset.drop_duplicates()\n",
        "\n",
        "\n",
        "q1 = dataset['bmi'].quantile(0.25)\n",
        "q3 = dataset['bmi'].quantile(0.75)\n",
        "iqr = q3 - q1\n",
        "lower = q1 - 1.5*iqr\n",
        "upper = q3 + 1.5*iqr\n",
        "dataset = dataset[(dataset['bmi'] >= lower) & (dataset['bmi'] <= upper)]\n"
      ],
      "metadata": {
        "colab": {
          "base_uri": "https://localhost:8080/"
        },
        "id": "o2BDBmG4zt58",
        "outputId": "354d3dbc-61e4-4b38-f5c6-bfe3a94d22fa"
      },
      "execution_count": 27,
      "outputs": [
        {
          "output_type": "stream",
          "name": "stdout",
          "text": [
            "age         0\n",
            "sex         0\n",
            "bmi         0\n",
            "children    0\n",
            "smoker      0\n",
            "region      0\n",
            "charges     0\n",
            "dtype: int64\n"
          ]
        }
      ]
    },
    {
      "cell_type": "code",
      "source": [
        "X = dataset.drop(\"charges\", axis=1)\n",
        "y = dataset[\"charges\"]\n",
        "\n",
        "\n",
        "X = pd.get_dummies(X, drop_first=True)\n"
      ],
      "metadata": {
        "id": "Af0s6eEhz2cE"
      },
      "execution_count": 28,
      "outputs": []
    },
    {
      "cell_type": "code",
      "source": [
        "from sklearn.model_selection import train_test_split\n",
        "\n",
        "X_train, X_test, y_train, y_test = train_test_split(\n",
        "    X, y, test_size=0.2, random_state=42\n",
        ")\n"
      ],
      "metadata": {
        "id": "dZPmWFvtz6q9"
      },
      "execution_count": 29,
      "outputs": []
    },
    {
      "cell_type": "code",
      "source": [
        "import joblib\n",
        "from sklearn.linear_model import LinearRegression\n",
        "\n",
        "lin_model_path = os.path.join(ai_project_files_path, \"linear_regression_model.pkl\")\n",
        "\n",
        "# Load if exists, else train\n",
        "if os.path.exists(lin_model_path):\n",
        "    linear_reg = joblib.load(lin_model_path)\n",
        "    print(\"Loaded saved Linear Regression model.\")\n",
        "else:\n",
        "    linear_reg = LinearRegression()\n",
        "    linear_reg.fit(X_train, y_train)\n",
        "    joblib.dump(linear_reg, lin_model_path)\n",
        "    print(\"Trained and saved Linear Regression model.\")\n",
        "\n"
      ],
      "metadata": {
        "colab": {
          "base_uri": "https://localhost:8080/"
        },
        "id": "bTXVLT_PL0rP",
        "outputId": "23417ee0-36c4-4d4e-aff3-304e9743d9af"
      },
      "execution_count": 30,
      "outputs": [
        {
          "output_type": "stream",
          "name": "stdout",
          "text": [
            "Loaded saved Linear Regression model.\n"
          ]
        }
      ]
    },
    {
      "cell_type": "code",
      "source": [
        "print(\"Weights (coefficients):\", linear_reg.coef_)\n",
        "print(\"Intercept:\", linear_reg.intercept_)"
      ],
      "metadata": {
        "colab": {
          "base_uri": "https://localhost:8080/"
        },
        "id": "A7bly3_oautC",
        "outputId": "a5d6a802-6312-4a4a-9a8c-b6c5e714b92b"
      },
      "execution_count": 31,
      "outputs": [
        {
          "output_type": "stream",
          "name": "stdout",
          "text": [
            "Weights (coefficients): [ 2.56975706e+02  3.37092552e+02  4.25278784e+02 -1.85916916e+01\n",
            "  2.36511289e+04 -3.70677326e+02 -6.57864297e+02 -8.09799354e+02]\n",
            "Intercept: -11931.21905032666\n"
          ]
        }
      ]
    },
    {
      "cell_type": "code",
      "source": [
        "from sklearn.tree import DecisionTreeRegressor\n",
        "\n",
        "tree_model_path = os.path.join(ai_project_files_path, \"decision_tree_model.pkl\")\n",
        "\n",
        "\n",
        "if os.path.exists(tree_model_path):\n",
        "    decision_tree = joblib.load(tree_model_path)\n",
        "    print(\"Loaded saved Decision Tree model.\")\n",
        "else:\n",
        "    decision_tree = DecisionTreeRegressor(random_state=42)\n",
        "    decision_tree.fit(X_train, y_train)\n",
        "    joblib.dump(decision_tree, tree_model_path)\n",
        "    print(\"Trained and saved Decision Tree model.\")\n",
        "\n",
        "\n"
      ],
      "metadata": {
        "colab": {
          "base_uri": "https://localhost:8080/"
        },
        "id": "b6WlZw7tL6uZ",
        "outputId": "ec1f47fd-2d6a-4db9-ccf1-38bb5a714623"
      },
      "execution_count": 32,
      "outputs": [
        {
          "output_type": "stream",
          "name": "stdout",
          "text": [
            "Loaded saved Decision Tree model.\n"
          ]
        }
      ]
    },
    {
      "cell_type": "code",
      "source": [
        "from sklearn.metrics import mean_squared_error, r2_score\n",
        "\n",
        "y_pred_lin = linear_reg.predict(X_test)\n",
        "y_pred_tree = decision_tree.predict(X_test)\n",
        "\n",
        "print(\"\\nLinear Regression R2:\", r2_score(y_test, y_pred_lin))\n",
        "print(\"\\nDecision Tree R2:\", r2_score(y_test, y_pred_tree))\n"
      ],
      "metadata": {
        "colab": {
          "base_uri": "https://localhost:8080/"
        },
        "id": "uBgv5fNoL80q",
        "outputId": "d83159f7-1475-4754-cefd-76173acb8d3b"
      },
      "execution_count": 33,
      "outputs": [
        {
          "output_type": "stream",
          "name": "stdout",
          "text": [
            "\n",
            "Linear Regression R2: 0.7485412200359154\n",
            "Linear Regression MSE: 34952451.27397823\n",
            "\n",
            "Decision Tree R2: 0.89552559231495\n",
            "Decision Tree MSE: 14521810.073647073\n"
          ]
        }
      ]
    }
  ]
}