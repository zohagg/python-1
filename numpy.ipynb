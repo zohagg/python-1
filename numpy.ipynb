{
  "nbformat": 4,
  "nbformat_minor": 0,
  "metadata": {
    "colab": {
      "provenance": []
    },
    "kernelspec": {
      "name": "python3",
      "display_name": "Python 3"
    },
    "language_info": {
      "name": "python"
    }
  },
  "cells": [
    {
      "cell_type": "markdown",
      "source": [
        "# Assignment 3"
      ],
      "metadata": {
        "id": "9ClTffNaw4Ux"
      }
    },
    {
      "cell_type": "markdown",
      "source": [
        "<p>Array Creation and Properties </p>\n",
        "<p>● Create 1D, 2D, and 3D arrays using np.array, np.zeros, np.ones, and np.full.</p>\n",
        "<p>● Use np.arange() and np.linspace() to create arrays with evenly spaced values.</p>\n",
        "<p>● Check array properties: .ndim, .shape, .size, .dtype.</p>"
      ],
      "metadata": {
        "id": "IbXiNRWuw7xq"
      }
    },
    {
      "cell_type": "code",
      "execution_count": 145,
      "metadata": {
        "id": "LEGVRR05qYdi"
      },
      "outputs": [],
      "source": [
        "import numpy as np"
      ]
    },
    {
      "cell_type": "code",
      "source": [
        "arr1D = np.array([1, 2, 3, 4])\n",
        "arr1D"
      ],
      "metadata": {
        "colab": {
          "base_uri": "https://localhost:8080/"
        },
        "id": "BgGWlyDVqgLJ",
        "outputId": "c2e105e7-5d77-4118-8400-1e9ad67c7796"
      },
      "execution_count": 146,
      "outputs": [
        {
          "output_type": "execute_result",
          "data": {
            "text/plain": [
              "array([1, 2, 3, 4])"
            ]
          },
          "metadata": {},
          "execution_count": 146
        }
      ]
    },
    {
      "cell_type": "code",
      "source": [
        "arr2D = np.array([[1, 2], [3, 4]])\n",
        "arr2D"
      ],
      "metadata": {
        "colab": {
          "base_uri": "https://localhost:8080/"
        },
        "id": "rsKT6qmrwAPj",
        "outputId": "53e0e190-86be-4f4e-e83b-d1cd9e757573"
      },
      "execution_count": 147,
      "outputs": [
        {
          "output_type": "execute_result",
          "data": {
            "text/plain": [
              "array([[1, 2],\n",
              "       [3, 4]])"
            ]
          },
          "metadata": {},
          "execution_count": 147
        }
      ]
    },
    {
      "cell_type": "code",
      "source": [
        "arr3D = np.array([[[1, 2], [3, 4]], [[5, 6], [7, 8]]])\n",
        "arr3D\n"
      ],
      "metadata": {
        "colab": {
          "base_uri": "https://localhost:8080/"
        },
        "id": "mq4wBlaZwESN",
        "outputId": "ac7668ed-c5f5-4d80-e1ab-d8113f371c5e"
      },
      "execution_count": 148,
      "outputs": [
        {
          "output_type": "execute_result",
          "data": {
            "text/plain": [
              "array([[[1, 2],\n",
              "        [3, 4]],\n",
              "\n",
              "       [[5, 6],\n",
              "        [7, 8]]])"
            ]
          },
          "metadata": {},
          "execution_count": 148
        }
      ]
    },
    {
      "cell_type": "code",
      "source": [
        "zeros_arr = np.zeros((3, 4))\n",
        "zeros_arr"
      ],
      "metadata": {
        "colab": {
          "base_uri": "https://localhost:8080/"
        },
        "id": "KWlgncUWwFk6",
        "outputId": "e4fe383c-0cf3-42a3-9aa4-50f921915e65"
      },
      "execution_count": 149,
      "outputs": [
        {
          "output_type": "execute_result",
          "data": {
            "text/plain": [
              "array([[0., 0., 0., 0.],\n",
              "       [0., 0., 0., 0.],\n",
              "       [0., 0., 0., 0.]])"
            ]
          },
          "metadata": {},
          "execution_count": 149
        }
      ]
    },
    {
      "cell_type": "code",
      "source": [
        "ones_arr = np.ones((2, 3))\n",
        "print(ones_arr)"
      ],
      "metadata": {
        "colab": {
          "base_uri": "https://localhost:8080/"
        },
        "id": "8GGJttZLwQy2",
        "outputId": "be801e12-3ddb-4222-a530-2322af45f9b0"
      },
      "execution_count": 150,
      "outputs": [
        {
          "output_type": "stream",
          "name": "stdout",
          "text": [
            "[[1. 1. 1.]\n",
            " [1. 1. 1.]]\n"
          ]
        }
      ]
    },
    {
      "cell_type": "code",
      "source": [
        "full_arr = np.full((2, 2), 7)\n",
        "print(full_arr)"
      ],
      "metadata": {
        "colab": {
          "base_uri": "https://localhost:8080/"
        },
        "id": "R9Jsl-5TwTBk",
        "outputId": "480850c3-6ffa-45a9-94fc-15870edebccb"
      },
      "execution_count": 151,
      "outputs": [
        {
          "output_type": "stream",
          "name": "stdout",
          "text": [
            "[[7 7]\n",
            " [7 7]]\n"
          ]
        }
      ]
    },
    {
      "cell_type": "code",
      "source": [
        "arr_range = np.arange(0, 10, 2)\n",
        "print(arr_range)"
      ],
      "metadata": {
        "colab": {
          "base_uri": "https://localhost:8080/"
        },
        "id": "ng6EHPYNwhrC",
        "outputId": "1aa5d92e-c901-4fc9-a6ac-dcbaf717301d"
      },
      "execution_count": 152,
      "outputs": [
        {
          "output_type": "stream",
          "name": "stdout",
          "text": [
            "[0 2 4 6 8]\n"
          ]
        }
      ]
    },
    {
      "cell_type": "code",
      "source": [
        "arr_linspace = np.linspace(0, 1, 5)\n",
        "print(arr_linspace)"
      ],
      "metadata": {
        "colab": {
          "base_uri": "https://localhost:8080/"
        },
        "id": "909GLc8Swk5H",
        "outputId": "e82fbda4-7d64-47da-e22e-5772911dced4"
      },
      "execution_count": 153,
      "outputs": [
        {
          "output_type": "stream",
          "name": "stdout",
          "text": [
            "[0.   0.25 0.5  0.75 1.  ]\n"
          ]
        }
      ]
    },
    {
      "cell_type": "code",
      "source": [
        "array = np.array([[1, 2, 3], [4, 5, 6]])\n",
        "\n",
        "print(\"Number of Dimensions:\", array.ndim)\n",
        "print(\"Shape:\", array.shape)\n",
        "print(\"Size:\", array.size)\n",
        "print(\"Data Type:\", array.dtype)"
      ],
      "metadata": {
        "colab": {
          "base_uri": "https://localhost:8080/"
        },
        "id": "NNDvwJHHwt1o",
        "outputId": "3bb697ab-fed1-474d-d249-693d8ba9986d"
      },
      "execution_count": 154,
      "outputs": [
        {
          "output_type": "stream",
          "name": "stdout",
          "text": [
            "Number of Dimensions: 2\n",
            "Shape: (2, 3)\n",
            "Size: 6\n",
            "Data Type: int64\n"
          ]
        }
      ]
    },
    {
      "cell_type": "markdown",
      "source": [
        " <p>Reshape and Flatten </p>\n",
        "<p>● Reshape arrays using .reshape() and .flatten().</p>\n",
        "<p>● Practice reshaping arrays between 1D, 2D, and 3D.</p>"
      ],
      "metadata": {
        "id": "iWFs-gQLxMzv"
      }
    },
    {
      "cell_type": "code",
      "source": [
        "arr1D = np.arange(1, 7)\n",
        "arr2D = arr1D.reshape(2, 3)\n",
        "print(arr2D)"
      ],
      "metadata": {
        "colab": {
          "base_uri": "https://localhost:8080/"
        },
        "id": "7haDu_CNxawS",
        "outputId": "54515f47-9e91-47e8-aa20-54c2c398546f"
      },
      "execution_count": 155,
      "outputs": [
        {
          "output_type": "stream",
          "name": "stdout",
          "text": [
            "[[1 2 3]\n",
            " [4 5 6]]\n"
          ]
        }
      ]
    },
    {
      "cell_type": "code",
      "source": [
        "arr3D = arr1D.reshape(2, 1, 3)\n",
        "arr3D"
      ],
      "metadata": {
        "colab": {
          "base_uri": "https://localhost:8080/"
        },
        "id": "qZngPNqnx485",
        "outputId": "b97b4430-ea5e-47c4-98e2-2011d0c42832"
      },
      "execution_count": 156,
      "outputs": [
        {
          "output_type": "execute_result",
          "data": {
            "text/plain": [
              "array([[[1, 2, 3]],\n",
              "\n",
              "       [[4, 5, 6]]])"
            ]
          },
          "metadata": {},
          "execution_count": 156
        }
      ]
    },
    {
      "cell_type": "code",
      "source": [
        "arr2D_to_1D = arr2D.reshape(-1)\n",
        "arr2D_to_1D\n"
      ],
      "metadata": {
        "colab": {
          "base_uri": "https://localhost:8080/"
        },
        "id": "7NruLp7Nx62o",
        "outputId": "59ce97a1-f38d-4288-85ff-39275af89221"
      },
      "execution_count": 157,
      "outputs": [
        {
          "output_type": "execute_result",
          "data": {
            "text/plain": [
              "array([1, 2, 3, 4, 5, 6])"
            ]
          },
          "metadata": {},
          "execution_count": 157
        }
      ]
    },
    {
      "cell_type": "code",
      "source": [
        "arr2D_sample = np.arange(1, 13).reshape(3, 4)\n",
        "arr2D_to_3D = arr2D_sample.reshape(2, 2, 3)\n",
        "arr2D_to_3D\n"
      ],
      "metadata": {
        "colab": {
          "base_uri": "https://localhost:8080/"
        },
        "id": "sixBF_cQx8yf",
        "outputId": "59ef5c26-aba8-429f-eb3f-8d38d055ca4f"
      },
      "execution_count": 158,
      "outputs": [
        {
          "output_type": "execute_result",
          "data": {
            "text/plain": [
              "array([[[ 1,  2,  3],\n",
              "        [ 4,  5,  6]],\n",
              "\n",
              "       [[ 7,  8,  9],\n",
              "        [10, 11, 12]]])"
            ]
          },
          "metadata": {},
          "execution_count": 158
        }
      ]
    },
    {
      "cell_type": "code",
      "source": [
        "arr3D = np.arange(1, 9).reshape(2, 2, 2)\n",
        "flat_arr = arr3D.flatten()\n",
        "flat_arr"
      ],
      "metadata": {
        "colab": {
          "base_uri": "https://localhost:8080/"
        },
        "id": "ay3D1Q59zbHe",
        "outputId": "80fb5b85-62b7-43a3-ede5-e69ddd4b1031"
      },
      "execution_count": 159,
      "outputs": [
        {
          "output_type": "execute_result",
          "data": {
            "text/plain": [
              "array([1, 2, 3, 4, 5, 6, 7, 8])"
            ]
          },
          "metadata": {},
          "execution_count": 159
        }
      ]
    },
    {
      "cell_type": "markdown",
      "source": [
        "<p>Random Numbers</p>\n",
        "<p>● Use np.random.randint(), np.random.rand(), np.random.randn(), and np.random.seed()to create random arrays.</p>\n",
        "<p>● Use .mean(), .min(), .max(), .argmin(), .argmax() to summarize data.</p>"
      ],
      "metadata": {
        "id": "Pl87oZZ9zwnd"
      }
    },
    {
      "cell_type": "code",
      "source": [
        "rand_integers = np.random.randint(1, 10, size=(3, 4))\n",
        "rand_integers\n"
      ],
      "metadata": {
        "colab": {
          "base_uri": "https://localhost:8080/"
        },
        "id": "0IYA6mvJz8Lz",
        "outputId": "18f99a2d-658f-41a1-be04-d60c1741fe3e"
      },
      "execution_count": 160,
      "outputs": [
        {
          "output_type": "execute_result",
          "data": {
            "text/plain": [
              "array([[3, 9, 2, 6],\n",
              "       [7, 9, 3, 3],\n",
              "       [7, 4, 8, 7]])"
            ]
          },
          "metadata": {},
          "execution_count": 160
        }
      ]
    },
    {
      "cell_type": "code",
      "source": [
        "rand_floats = np.random.rand(2, 3)\n",
        "rand_floats\n"
      ],
      "metadata": {
        "colab": {
          "base_uri": "https://localhost:8080/"
        },
        "id": "sSo1WxQA0rfh",
        "outputId": "925db7d5-7cb2-4beb-9fbd-2bfd2f2150a1"
      },
      "execution_count": 161,
      "outputs": [
        {
          "output_type": "execute_result",
          "data": {
            "text/plain": [
              "array([[0.43365533, 0.04366166, 0.16167254],\n",
              "       [0.02086114, 0.65326302, 0.33231463]])"
            ]
          },
          "metadata": {},
          "execution_count": 161
        }
      ]
    },
    {
      "cell_type": "code",
      "source": [
        "rand_normal = np.random.randn(2, 3)\n",
        "rand_normal\n"
      ],
      "metadata": {
        "colab": {
          "base_uri": "https://localhost:8080/"
        },
        "id": "PPkdB3AF03Wa",
        "outputId": "9869bd2a-7970-4c1b-afe5-2c71f4b71cd2"
      },
      "execution_count": 162,
      "outputs": [
        {
          "output_type": "execute_result",
          "data": {
            "text/plain": [
              "array([[-0.48969947,  3.09404902, -0.1756013 ],\n",
              "       [-0.75961884, -0.41231312, -1.41196098]])"
            ]
          },
          "metadata": {},
          "execution_count": 162
        }
      ]
    },
    {
      "cell_type": "code",
      "source": [
        "np.random.seed(42)\n",
        "rand_seeded = np.random.randint(0, 100, size=5)\n",
        "rand_seeded\n"
      ],
      "metadata": {
        "colab": {
          "base_uri": "https://localhost:8080/"
        },
        "id": "EDMlevnG1BYP",
        "outputId": "e1b2c4d1-20c6-4ef2-8dd6-44e18004925a"
      },
      "execution_count": 163,
      "outputs": [
        {
          "output_type": "execute_result",
          "data": {
            "text/plain": [
              "array([51, 92, 14, 71, 60])"
            ]
          },
          "metadata": {},
          "execution_count": 163
        }
      ]
    },
    {
      "cell_type": "code",
      "source": [
        "data = np.random.randint(1, 50, size=(4, 5))\n",
        "data"
      ],
      "metadata": {
        "colab": {
          "base_uri": "https://localhost:8080/"
        },
        "id": "UB0iJvqS1Rmq",
        "outputId": "403a2622-d23f-443c-ce0b-8b1f02a9df37"
      },
      "execution_count": 164,
      "outputs": [
        {
          "output_type": "execute_result",
          "data": {
            "text/plain": [
              "array([[21, 39, 19, 23, 11],\n",
              "       [11, 24, 36, 40, 24],\n",
              "       [ 3, 22,  2, 24, 44],\n",
              "       [30, 38,  2, 21, 33]])"
            ]
          },
          "metadata": {},
          "execution_count": 164
        }
      ]
    },
    {
      "cell_type": "code",
      "source": [
        "data.mean()\n"
      ],
      "metadata": {
        "colab": {
          "base_uri": "https://localhost:8080/"
        },
        "id": "ndBpJMOT1VKd",
        "outputId": "76fe89d7-b4a3-42b9-d1fa-10189be7b84a"
      },
      "execution_count": 165,
      "outputs": [
        {
          "output_type": "execute_result",
          "data": {
            "text/plain": [
              "np.float64(23.35)"
            ]
          },
          "metadata": {},
          "execution_count": 165
        }
      ]
    },
    {
      "cell_type": "code",
      "source": [
        "data.min()"
      ],
      "metadata": {
        "colab": {
          "base_uri": "https://localhost:8080/"
        },
        "id": "Eq7Ml8NJ1a99",
        "outputId": "aae67ef1-3beb-4905-c025-e6d289184b2b"
      },
      "execution_count": 166,
      "outputs": [
        {
          "output_type": "execute_result",
          "data": {
            "text/plain": [
              "np.int64(2)"
            ]
          },
          "metadata": {},
          "execution_count": 166
        }
      ]
    },
    {
      "cell_type": "code",
      "source": [
        "data.max()"
      ],
      "metadata": {
        "colab": {
          "base_uri": "https://localhost:8080/"
        },
        "id": "9tQDonmG1jIM",
        "outputId": "12e3837c-a264-4a68-ffd5-2a2c7e3531d9"
      },
      "execution_count": 167,
      "outputs": [
        {
          "output_type": "execute_result",
          "data": {
            "text/plain": [
              "np.int64(44)"
            ]
          },
          "metadata": {},
          "execution_count": 167
        }
      ]
    },
    {
      "cell_type": "code",
      "source": [
        "data.argmin()"
      ],
      "metadata": {
        "colab": {
          "base_uri": "https://localhost:8080/"
        },
        "id": "28QiwSm41nCi",
        "outputId": "82f029d4-d1eb-41fa-81cd-23471b5c6f46"
      },
      "execution_count": 168,
      "outputs": [
        {
          "output_type": "execute_result",
          "data": {
            "text/plain": [
              "np.int64(12)"
            ]
          },
          "metadata": {},
          "execution_count": 168
        }
      ]
    },
    {
      "cell_type": "code",
      "source": [
        "data.argmax()"
      ],
      "metadata": {
        "colab": {
          "base_uri": "https://localhost:8080/"
        },
        "id": "YH_i02991sVU",
        "outputId": "c4f0d98c-329c-4067-8f73-17dd721736bd"
      },
      "execution_count": 169,
      "outputs": [
        {
          "output_type": "execute_result",
          "data": {
            "text/plain": [
              "np.int64(14)"
            ]
          },
          "metadata": {},
          "execution_count": 169
        }
      ]
    },
    {
      "cell_type": "markdown",
      "source": [
        "<p>Indexing and Slicing </p>\n",
        "<p>● Index and slice 1D and 2D arrays.</p>\n",
        "<p>● Access specific rows, columns, and elements.</p>\n",
        "<p>● Use negative indexing.</p>"
      ],
      "metadata": {
        "id": "K3G5aFxl2Duv"
      }
    },
    {
      "cell_type": "code",
      "source": [
        "arr = np.array([10, 20, 30, 40, 50])\n",
        "arr"
      ],
      "metadata": {
        "colab": {
          "base_uri": "https://localhost:8080/"
        },
        "id": "QhEdBpL-3AtR",
        "outputId": "6dbf348b-ee45-4a91-9566-741f136768ce"
      },
      "execution_count": 170,
      "outputs": [
        {
          "output_type": "execute_result",
          "data": {
            "text/plain": [
              "array([10, 20, 30, 40, 50])"
            ]
          },
          "metadata": {},
          "execution_count": 170
        }
      ]
    },
    {
      "cell_type": "code",
      "source": [
        "#positive\n",
        "print(arr[0])\n",
        "print(arr[2])"
      ],
      "metadata": {
        "colab": {
          "base_uri": "https://localhost:8080/"
        },
        "id": "MuG8p_6F3JcJ",
        "outputId": "90405870-8bdc-4ef6-db4d-376c7d23b518"
      },
      "execution_count": 171,
      "outputs": [
        {
          "output_type": "stream",
          "name": "stdout",
          "text": [
            "10\n",
            "30\n"
          ]
        }
      ]
    },
    {
      "cell_type": "code",
      "source": [
        "#negative\n",
        "print(arr[-1])\n",
        "print(arr[-2])"
      ],
      "metadata": {
        "colab": {
          "base_uri": "https://localhost:8080/"
        },
        "id": "rjZ0-Djp3NhD",
        "outputId": "3ac40487-3f4d-4ee1-a7f4-7078816275ca"
      },
      "execution_count": 172,
      "outputs": [
        {
          "output_type": "stream",
          "name": "stdout",
          "text": [
            "50\n",
            "40\n"
          ]
        }
      ]
    },
    {
      "cell_type": "code",
      "source": [
        "#slicing\n",
        "print(arr[1:4])\n",
        "print(arr[:3])\n",
        "print(arr[2:])"
      ],
      "metadata": {
        "colab": {
          "base_uri": "https://localhost:8080/"
        },
        "id": "Ob-GV2DH3av_",
        "outputId": "7b8f5b14-ff5a-428b-baca-2700d43e2442"
      },
      "execution_count": 173,
      "outputs": [
        {
          "output_type": "stream",
          "name": "stdout",
          "text": [
            "[20 30 40]\n",
            "[10 20 30]\n",
            "[30 40 50]\n"
          ]
        }
      ]
    },
    {
      "cell_type": "code",
      "source": [
        "print(arr2D[0:2, 1:3])"
      ],
      "metadata": {
        "colab": {
          "base_uri": "https://localhost:8080/"
        },
        "id": "3uSQunDv3ti9",
        "outputId": "19498186-3db8-4d92-d468-e631d2a0d906"
      },
      "execution_count": 174,
      "outputs": [
        {
          "output_type": "stream",
          "name": "stdout",
          "text": [
            "[[2 3]\n",
            " [5 6]]\n"
          ]
        }
      ]
    },
    {
      "cell_type": "markdown",
      "source": [
        " <p>Boolean Masking </p>\n",
        "<p>● Filter values in arrays using conditions. </p>\n",
        "<p>● Combine multiple conditions with & (and), | (or). </p>\n",
        "<p>● Count and sum filtered elements.</p>\n",
        "\n",
        "\n",
        "---\n",
        "\n",
        "\n",
        "\n"
      ],
      "metadata": {
        "id": "rkppb_DA4Mnn"
      }
    },
    {
      "cell_type": "code",
      "source": [
        "mask = arr > 25\n",
        "mask"
      ],
      "metadata": {
        "colab": {
          "base_uri": "https://localhost:8080/"
        },
        "id": "jHuKnDLh4rpe",
        "outputId": "0cc54ae7-f953-4cd3-d963-adf3d58fd372"
      },
      "execution_count": 175,
      "outputs": [
        {
          "output_type": "execute_result",
          "data": {
            "text/plain": [
              "array([False, False,  True,  True,  True])"
            ]
          },
          "metadata": {},
          "execution_count": 175
        }
      ]
    },
    {
      "cell_type": "code",
      "source": [
        "filtered = arr[mask]\n",
        "filtered"
      ],
      "metadata": {
        "colab": {
          "base_uri": "https://localhost:8080/"
        },
        "id": "uAKWjFWq48Qd",
        "outputId": "18399f33-051d-4bc0-b368-dba5fa771bf5"
      },
      "execution_count": 176,
      "outputs": [
        {
          "output_type": "execute_result",
          "data": {
            "text/plain": [
              "array([30, 40, 50])"
            ]
          },
          "metadata": {},
          "execution_count": 176
        }
      ]
    },
    {
      "cell_type": "code",
      "source": [
        "print(arr[(arr > 15) & (arr < 45)])"
      ],
      "metadata": {
        "colab": {
          "base_uri": "https://localhost:8080/"
        },
        "id": "vMmcB9ic5JMy",
        "outputId": "cca26b45-cbf4-4663-99bc-71ae5e672242"
      },
      "execution_count": 177,
      "outputs": [
        {
          "output_type": "stream",
          "name": "stdout",
          "text": [
            "[20 30 40]\n"
          ]
        }
      ]
    },
    {
      "cell_type": "code",
      "source": [
        "print(arr[(arr < 20) | (arr > 40)])"
      ],
      "metadata": {
        "colab": {
          "base_uri": "https://localhost:8080/"
        },
        "id": "5EiDDEXH5OXx",
        "outputId": "44298414-a97a-4374-c25a-02986590dd11"
      },
      "execution_count": 178,
      "outputs": [
        {
          "output_type": "stream",
          "name": "stdout",
          "text": [
            "[10 50]\n"
          ]
        }
      ]
    },
    {
      "cell_type": "code",
      "source": [
        "count = np.sum(arr > 25)\n",
        "print(\"Count > 25:\", count)\n",
        "\n",
        "total = np.sum(arr[arr > 25])\n",
        "print(\"Sum > 25:\", total)"
      ],
      "metadata": {
        "colab": {
          "base_uri": "https://localhost:8080/"
        },
        "id": "Kel8AiFV5cDr",
        "outputId": "2b0fafb6-9e42-47da-c437-08e361618001"
      },
      "execution_count": 179,
      "outputs": [
        {
          "output_type": "stream",
          "name": "stdout",
          "text": [
            "Count > 25: 3\n",
            "Sum > 25: 120\n"
          ]
        }
      ]
    },
    {
      "cell_type": "markdown",
      "source": [
        "<p>Array Math & Broadcasting </p>\n",
        "<p>● Perform element-wise operations (+, -, *, /, **, %). </p>\n",
        "<p>● Use broadcasting to add/subtract scalar to/from arrays. </p>\n",
        "<p>● Use np.sum(), np.prod(), np.mean(), etc.</p>\n",
        "\n",
        "\n",
        "---\n",
        "\n"
      ],
      "metadata": {
        "id": "MVXDd7g_5yUH"
      }
    },
    {
      "cell_type": "code",
      "source": [
        "a = np.array([1, 2, 3])\n",
        "print(a + 10)"
      ],
      "metadata": {
        "colab": {
          "base_uri": "https://localhost:8080/"
        },
        "id": "ScxvG8so6Q9_",
        "outputId": "3b360f5d-672c-4834-a494-f9ed4b427690"
      },
      "execution_count": 180,
      "outputs": [
        {
          "output_type": "stream",
          "name": "stdout",
          "text": [
            "[11 12 13]\n"
          ]
        }
      ]
    },
    {
      "cell_type": "code",
      "source": [
        "import numpy as np\n",
        "\n",
        "a = np.array([1, 2, 3, 4])\n",
        "b = np.array([5, 6, 7, 8])\n",
        "\n",
        "print(\"Add:\", a + b)\n",
        "print(\"Subtract:\", a - b)\n",
        "print(\"Multiply:\", a * b)\n",
        "print(\"Divide:\", a / b)\n",
        "print(\"Power:\", a ** 2)\n",
        "print(\"Modulo:\", a % 2)\n"
      ],
      "metadata": {
        "colab": {
          "base_uri": "https://localhost:8080/"
        },
        "id": "GOSMCvHQ6kGI",
        "outputId": "45425ba8-4861-4b11-c933-5d0347995a18"
      },
      "execution_count": 181,
      "outputs": [
        {
          "output_type": "stream",
          "name": "stdout",
          "text": [
            "Add: [ 6  8 10 12]\n",
            "Subtract: [-4 -4 -4 -4]\n",
            "Multiply: [ 5 12 21 32]\n",
            "Divide: [0.2        0.33333333 0.42857143 0.5       ]\n",
            "Power: [ 1  4  9 16]\n",
            "Modulo: [1 0 1 0]\n"
          ]
        }
      ]
    },
    {
      "cell_type": "code",
      "source": [
        "arr = np.array([[1, 2, 3],\n",
        "                [4, 5, 6]])\n",
        "print(\"Sum of all:\", np.sum(arr))\n",
        "print(\"Product of all:\", np.prod(arr))\n",
        "print(\"Mean of all:\", np.mean(arr))\n",
        "print(\"Sum by columns:\", np.sum(arr, axis=0))\n",
        "print(\"Sum by rows:\", np.sum(arr, axis=1))"
      ],
      "metadata": {
        "colab": {
          "base_uri": "https://localhost:8080/"
        },
        "id": "zv2C3fM965xp",
        "outputId": "5f244ace-5f41-4ca6-e9b9-b0b57ec5bd91"
      },
      "execution_count": 182,
      "outputs": [
        {
          "output_type": "stream",
          "name": "stdout",
          "text": [
            "Sum of all: 21\n",
            "Product of all: 720\n",
            "Mean of all: 3.5\n",
            "Sum by columns: [5 7 9]\n",
            "Sum by rows: [ 6 15]\n"
          ]
        }
      ]
    },
    {
      "cell_type": "markdown",
      "source": [
        "# ***Matplotlib***"
      ],
      "metadata": {
        "id": "XPeSSkf7SXUZ"
      }
    },
    {
      "cell_type": "code",
      "source": [
        "import matplotlib.pyplot as plt"
      ],
      "metadata": {
        "id": "l1CKoq2MUO0W"
      },
      "execution_count": 183,
      "outputs": []
    },
    {
      "cell_type": "markdown",
      "source": [
        "<p>Plotting with Matplotlib </p>\n",
        "<p>● Import matplotlib.pyplot as plt. </p>\n",
        "<p>● Create line plots using plt.plot(). </p>\n",
        "<p>● Create bar plots using plt.bar(). </p>\n",
        "<p>● Create scatter plots using plt.scatter(). </p>\n",
        "<p>● Create histograms using plt.hist(). </p>\n",
        "\n"
      ],
      "metadata": {
        "id": "sdfVtbzqURDl"
      }
    },
    {
      "cell_type": "code",
      "source": [
        "x = np.array([1, 2, 3, 4, 5])\n",
        "y = np.array([2, 4, 6, 8, 10])"
      ],
      "metadata": {
        "id": "nHSNIZ3HU8vW"
      },
      "execution_count": 184,
      "outputs": []
    },
    {
      "cell_type": "code",
      "source": [
        "plt.plot(x, y)\n",
        "plt.xlabel(\"X-axis\")\n",
        "plt.ylabel(\"Y-axis\")\n",
        "plt.title(\"Line Plot\")\n",
        "plt.show()\n"
      ],
      "metadata": {
        "colab": {
          "base_uri": "https://localhost:8080/",
          "height": 472
        },
        "id": "93KNxTueVBFT",
        "outputId": "d42264e3-1c88-47dd-d8f9-b1337253fca0"
      },
      "execution_count": 185,
      "outputs": [
        {
          "output_type": "display_data",
          "data": {
            "text/plain": [
              "<Figure size 640x480 with 1 Axes>"
            ],
            "image/png": "[encoded data removed]"
          },
          "metadata": {}
        }
      ]
    },
    {
      "cell_type": "code",
      "source": [
        "plt.bar(x, y, color='green', edgecolor='black')\n",
        "plt.xlabel(\"Categories\")\n",
        "plt.ylabel(\"Values\")\n",
        "plt.title(\"Bar Plot\")\n",
        "plt.show()\n"
      ],
      "metadata": {
        "colab": {
          "base_uri": "https://localhost:8080/",
          "height": 472
        },
        "id": "Mx2khRjzVGWD",
        "outputId": "8a6640a6-6dda-4774-c1d8-04a900ed98fc"
      },
      "execution_count": 186,
      "outputs": [
        {
          "output_type": "display_data",
          "data": {
            "text/plain": [
              "<Figure size 640x480 with 1 Axes>"
            ],
            "image/png": "[encoded data removed]"
          },
          "metadata": {}
        }
      ]
    },
    {
      "cell_type": "code",
      "source": [
        "plt.scatter(x, y, color='red')\n",
        "plt.xlabel(\"X-axis\")\n",
        "plt.ylabel(\"Y-axis\")\n",
        "plt.title(\"Scatter Plot\")\n",
        "plt.show()\n"
      ],
      "metadata": {
        "colab": {
          "base_uri": "https://localhost:8080/",
          "height": 472
        },
        "id": "k4jXLgi_VL9A",
        "outputId": "8f2d3e28-cbfd-4816-ee4a-441ee1e8cde8"
      },
      "execution_count": 187,
      "outputs": [
        {
          "output_type": "display_data",
          "data": {
            "text/plain": [
              "<Figure size 640x480 with 1 Axes>"
            ],
            "image/png": "[encoded data removed]"
          },
          "metadata": {}
        }
      ]
    },
    {
      "cell_type": "code",
      "source": [
        "data = np.random.randn(1000)\n",
        "plt.hist(data, bins=20, color='purple', edgecolor='black')\n",
        "plt.xlabel(\"Value\")\n",
        "plt.ylabel(\"Frequency\")\n",
        "plt.title(\"Histogram\")\n",
        "plt.show()"
      ],
      "metadata": {
        "colab": {
          "base_uri": "https://localhost:8080/",
          "height": 472
        },
        "id": "CHoPfsIqVT6K",
        "outputId": "e2891d23-463c-417a-cebb-2671b805f7b6"
      },
      "execution_count": 188,
      "outputs": [
        {
          "output_type": "display_data",
          "data": {
            "text/plain": [
              "<Figure size 640x480 with 1 Axes>"
            ],
            "image/png": "[encoded data removed]"
          },
          "metadata": {}
        }
      ]
    },
    {
      "cell_type": "markdown",
      "source": [
        "<p>Plot Customization </p>\n",
        "<p>● Add titles, axis labels, legends using plt.title(), plt.xlabel(), plt.ylabel(), plt.legend(). </p>\n",
        "<p>● Use plt.grid() and customize line color and styles.</p>"
      ],
      "metadata": {
        "id": "rixppAXAe1j2"
      }
    },
    {
      "cell_type": "code",
      "source": [
        "import matplotlib.pyplot as plt\n",
        "import numpy as np\n",
        "\n",
        "x = np.linspace(0, 10, 50)\n",
        "y1 = np.sin(x)\n",
        "y2 = np.cos(x)\n",
        "\n",
        "plt.plot(x, y1, color=\"blue\", linestyle=\"-\", marker=\"o\", label=\"Sine Wave\")\n",
        "plt.plot(x, y2, color=\"red\", linestyle=\"--\", marker=\"s\", label=\"Cosine Wave\")\n",
        "\n",
        "plt.title(\"Sine and Cosine Waves\")\n",
        "plt.xlabel(\"X-axis (radians)\")\n",
        "plt.ylabel(\"Y-axis (value)\")\n",
        "\n",
        "\n",
        "plt.legend()\n",
        "\n",
        "plt.grid(True, linestyle=\":\", color=\"gray\")\n",
        "\n",
        "plt.show()\n"
      ],
      "metadata": {
        "colab": {
          "base_uri": "https://localhost:8080/",
          "height": 472
        },
        "id": "opWTO2hsaPNN",
        "outputId": "89a6723a-8ff5-456a-d88e-9453e7cf6be6"
      },
      "execution_count": 189,
      "outputs": [
        {
          "output_type": "display_data",
          "data": {
            "text/plain": [
              "<Figure size 640x480 with 1 Axes>"
            ],
            "image/png": "[encoded data removed]"
          },
          "metadata": {}
        }
      ]
    },
    {
      "cell_type": "markdown",
      "source": [
        "<p>Subplots and Multiple Figures </p>\n",
        "<p>● Use plt.subplot() to create multiple plots in one figure. </p>\n",
        "<p>● Plot multiple datasets on the same graph with different styles. </p>"
      ],
      "metadata": {
        "id": "tgmgGKSNfQqL"
      }
    },
    {
      "cell_type": "code",
      "source": [
        "import matplotlib.pyplot as plt\n",
        "import numpy as np\n",
        "\n",
        "x = np.linspace(0, 10, 100)\n",
        "y1 = np.sin(x)\n",
        "y2 = np.cos(x)\n",
        "\n",
        "plt.subplot(2, 1, 1)\n",
        "plt.plot(x, y1, color='blue')\n",
        "plt.title(\"Sine Wave\")\n",
        "\n",
        "\n",
        "plt.subplot(2, 1, 2)\n",
        "plt.plot(x, y2, color='red')\n",
        "plt.title(\"Cosine Wave\")\n",
        "\n",
        "plt.tight_layout()\n",
        "plt.show()\n"
      ],
      "metadata": {
        "colab": {
          "base_uri": "https://localhost:8080/",
          "height": 486
        },
        "id": "8uRq_DNfewWI",
        "outputId": "78f3dd51-5845-4b85-e17d-90c03c9472cd"
      },
      "execution_count": 190,
      "outputs": [
        {
          "output_type": "display_data",
          "data": {
            "text/plain": [
              "<Figure size 640x480 with 2 Axes>"
            ],
            "image/png": "[encoded data removed]"
          },
          "metadata": {}
        }
      ]
    },
    {
      "cell_type": "code",
      "source": [
        "plt.savefig(\"sine_wave.png\")\n",
        "plt.show()"
      ],
      "metadata": {
        "colab": {
          "base_uri": "https://localhost:8080/",
          "height": 34
        },
        "id": "jg6eTgWyfmjc",
        "outputId": "8d429beb-3f34-4929-83f6-39da7afd4d5f"
      },
      "execution_count": 191,
      "outputs": [
        {
          "output_type": "display_data",
          "data": {
            "text/plain": [
              "<Figure size 640x480 with 0 Axes>"
            ]
          },
          "metadata": {}
        }
      ]
    }
  ]
}